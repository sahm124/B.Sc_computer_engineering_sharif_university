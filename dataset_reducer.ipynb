{
 "cells": [
  {
   "cell_type": "code",
   "execution_count": 2,
   "metadata": {},
   "outputs": [],
   "source": [
    "import os\n",
    "import random\n",
    "import shutil\n",
    "\n",
    "base_path = \"C:/Users/s.h.m/Downloads/VGG2/train\"\n",
    "dest1 = \"C:/Users/s.h.m/Downloads/dataset/train\"\n",
    "dest2 = \"C:/Users/s.h.m/Downloads/dataset/val\"\n",
    "dest3 = \"C:/Users/s.h.m/Downloads/dataset/test\"\n",
    "\n",
    "x_percentage = 5\n",
    "q_percentage = 70\n",
    "p_percentage = 15\n",
    "\n",
    "def select_folders(base_path, percentage):\n",
    "    folders = [f for f in os.listdir(base_path) if os.path.isdir(os.path.join(base_path, f))]\n",
    "    selected_count = int(len(folders) * percentage / 100)\n",
    "    selected_folders = random.sample(folders, selected_count)\n",
    "    return selected_folders\n",
    "\n",
    "def distribute_files(folder_path, dest1, dest2, dest3, q_percentage, p_percentage):\n",
    "    files = [f for f in os.listdir(folder_path) if os.path.isfile(os.path.join(folder_path, f))]\n",
    "    total_files = len(files)\n",
    "\n",
    "    q_count = int(total_files * q_percentage / 100)\n",
    "    p_count = int(total_files * p_percentage / 100)\n",
    "    \n",
    "    q_files = random.sample(files, q_count)\n",
    "    remaining_files = [f for f in files if f not in q_files]\n",
    "    p_files = random.sample(remaining_files, p_count)\n",
    "    r_files = [f for f in remaining_files if f not in p_files]\n",
    "\n",
    "    for f in q_files:\n",
    "        shutil.copy(os.path.join(folder_path, f), os.path.join(dest1, f))\n",
    "\n",
    "    for f in p_files:\n",
    "        shutil.copy(os.path.join(folder_path, f), os.path.join(dest2, f))\n",
    "\n",
    "    for f in r_files:\n",
    "        shutil.copy(os.path.join(folder_path, f), os.path.join(dest3, f))\n",
    "\n",
    "def process_folders(base_path, dest1, dest2, dest3, x_percentage, q_percentage, p_percentage):\n",
    "    selected_folders = select_folders(base_path, x_percentage)\n",
    "    \n",
    "    for folder in selected_folders:\n",
    "        folder_path = os.path.join(base_path, folder)\n",
    "        os.makedirs(f'{dest1}/{folder}', exist_ok=True)\n",
    "        os.makedirs(f'{dest2}/{folder}', exist_ok=True)\n",
    "        os.makedirs(f'{dest3}/{folder}', exist_ok=True)\n",
    "        distribute_files(folder_path, f'{dest1}/{folder}', f'{dest2}/{folder}', f'{dest3}/{folder}', q_percentage, p_percentage)\n",
    "\n",
    "process_folders(base_path, dest1, dest2, dest3, x_percentage, q_percentage, p_percentage)\n"
   ]
  }
 ],
 "metadata": {
  "kernelspec": {
   "display_name": "tf-gpu",
   "language": "python",
   "name": "python3"
  },
  "language_info": {
   "codemirror_mode": {
    "name": "ipython",
    "version": 3
   },
   "file_extension": ".py",
   "mimetype": "text/x-python",
   "name": "python",
   "nbconvert_exporter": "python",
   "pygments_lexer": "ipython3",
   "version": "3.9.19"
  },
  "orig_nbformat": 4
 },
 "nbformat": 4,
 "nbformat_minor": 2
}
